{
  "nbformat": 4,
  "nbformat_minor": 0,
  "metadata": {
    "colab": {
      "name": "DS203_DBA_Project_Prediction.ipynb",
      "provenance": []
    },
    "kernelspec": {
      "name": "python3",
      "display_name": "Python 3"
    },
    "language_info": {
      "name": "python"
    }
  },
  "cells": [
    {
      "cell_type": "markdown",
      "metadata": {
        "id": "X2yCYrAjEQhv"
      },
      "source": [
        "#Driver Behaviour Analysis\n",
        "DS203 Course Project\n",
        "\n",
        "-by-\n",
        "\n",
        "Shiven Barbare(190100110)\n",
        "\n",
        "Akash Chodankar(190100009)"
      ]
    },
    {
      "cell_type": "code",
      "metadata": {
        "colab": {
          "base_uri": "https://localhost:8080/"
        },
        "id": "n0GuJsTtvBIM",
        "outputId": "89a4201a-464e-42da-9e7a-22393d1037b0"
      },
      "source": [
        "from google.colab import drive\n",
        "drive.mount('/content/drive')"
      ],
      "execution_count": null,
      "outputs": [
        {
          "output_type": "stream",
          "name": "stdout",
          "text": [
            "Drive already mounted at /content/drive; to attempt to forcibly remount, call drive.mount(\"/content/drive\", force_remount=True).\n"
          ]
        }
      ]
    },
    {
      "cell_type": "code",
      "metadata": {
        "id": "HlyLxPURO3jM"
      },
      "source": [
        "import numpy as np\n",
        "import pandas as pd\n",
        "import matplotlib.pyplot as plt\n",
        "import seaborn as sns"
      ],
      "execution_count": null,
      "outputs": []
    },
    {
      "cell_type": "code",
      "metadata": {
        "id": "Zc6HduZxdaVD"
      },
      "source": [
        "data_acc_NM = pd.read_csv('/content/drive/Shareddrives/DS203/Driver_Behaviour_Analysis/UAH-DRIVESET-v1/D1/20151111123124-25km-D1-NORMAL-MOTORWAY/RAW_ACCELEROMETERS.txt', header=None, sep=\" \")\n",
        "data_acc_AM = pd.read_csv('/content/drive/Shareddrives/DS203/Driver_Behaviour_Analysis/UAH-DRIVESET-v1/D1/20151111125233-24km-D1-AGGRESSIVE-MOTORWAY/RAW_ACCELEROMETERS.txt', header=None, sep=\" \")\n",
        "data_acc_DM = pd.read_csv('/content/drive/Shareddrives/DS203/Driver_Behaviour_Analysis/UAH-DRIVESET-v1/D1/20151111132348-25km-D1-DROWSY-MOTORWAY/RAW_ACCELEROMETERS.txt', header=None, sep=\" \")"
      ],
      "execution_count": null,
      "outputs": []
    },
    {
      "cell_type": "code",
      "metadata": {
        "id": "KA-Tnsaqd2rD"
      },
      "source": [
        "data_acc_NM = data_acc_NM.drop([11], axis=1)\n",
        "data_acc_AM = data_acc_AM.drop([11], axis=1)\n",
        "data_acc_DM = data_acc_DM.drop([11], axis=1)"
      ],
      "execution_count": null,
      "outputs": []
    },
    {
      "cell_type": "code",
      "metadata": {
        "id": "V3KrlHqygo2g"
      },
      "source": [
        "data_acc_NM.columns=['timestamp','system_activated','accn_x','accn_y','accn_z','accn_kf_x','accn_kf_y','accn_kf_z','roll','pitch','yaw']\n",
        "data_acc_AM.columns=['timestamp','system_activated','accn_x','accn_y','accn_z','accn_kf_x','accn_kf_y','accn_kf_z','roll','pitch','yaw']\n",
        "data_acc_DM.columns=['timestamp','system_activated','accn_x','accn_y','accn_z','accn_kf_x','accn_kf_y','accn_kf_z','roll','pitch','yaw']"
      ],
      "execution_count": null,
      "outputs": []
    },
    {
      "cell_type": "code",
      "metadata": {
        "colab": {
          "base_uri": "https://localhost:8080/"
        },
        "id": "hyX8rzWxSX3l",
        "outputId": "6a153650-dcc6-4857-a171-2e710677ff0e"
      },
      "source": [
        "data_acc_NM.info()"
      ],
      "execution_count": null,
      "outputs": [
        {
          "output_type": "stream",
          "name": "stdout",
          "text": [
            "<class 'pandas.core.frame.DataFrame'>\n",
            "RangeIndex: 8668 entries, 0 to 8667\n",
            "Data columns (total 11 columns):\n",
            " #   Column            Non-Null Count  Dtype  \n",
            "---  ------            --------------  -----  \n",
            " 0   timestamp         8668 non-null   float64\n",
            " 1   system_activated  8668 non-null   int64  \n",
            " 2   accn_x            8668 non-null   float64\n",
            " 3   accn_y            8668 non-null   float64\n",
            " 4   accn_z            8668 non-null   float64\n",
            " 5   accn_kf_x         8668 non-null   float64\n",
            " 6   accn_kf_y         8668 non-null   float64\n",
            " 7   accn_kf_z         8668 non-null   float64\n",
            " 8   roll              8668 non-null   float64\n",
            " 9   pitch             8668 non-null   float64\n",
            " 10  yaw               8668 non-null   float64\n",
            "dtypes: float64(10), int64(1)\n",
            "memory usage: 745.0 KB\n"
          ]
        }
      ]
    },
    {
      "cell_type": "markdown",
      "metadata": {
        "id": "BYKe_xt2DhVf"
      },
      "source": [
        "### Preparing data for predictions"
      ]
    },
    {
      "cell_type": "markdown",
      "metadata": {
        "id": "1JkI4hbeDf7n"
      },
      "source": [
        "#### We drop the following columns based on our previous analysis."
      ]
    },
    {
      "cell_type": "code",
      "metadata": {
        "id": "McQBIMfrSZpN"
      },
      "source": [
        "data_acc_NM = data_acc_NM.drop(['accn_x','accn_y','accn_z', 'timestamp'],1)\n",
        "data_acc_AM = data_acc_AM.drop(['accn_x','accn_y','accn_z', 'timestamp'],1)\n",
        "data_acc_DM = data_acc_DM.drop(['accn_x','accn_y','accn_z', 'timestamp'],1)"
      ],
      "execution_count": null,
      "outputs": []
    },
    {
      "cell_type": "code",
      "metadata": {
        "colab": {
          "base_uri": "https://localhost:8080/"
        },
        "id": "eJj2Iiq6SrZ9",
        "outputId": "475c263e-dec6-4945-ce3f-6d3b193c2449"
      },
      "source": [
        "data_acc_NM.info()"
      ],
      "execution_count": null,
      "outputs": [
        {
          "output_type": "stream",
          "name": "stdout",
          "text": [
            "<class 'pandas.core.frame.DataFrame'>\n",
            "RangeIndex: 8668 entries, 0 to 8667\n",
            "Data columns (total 7 columns):\n",
            " #   Column            Non-Null Count  Dtype  \n",
            "---  ------            --------------  -----  \n",
            " 0   system_activated  8668 non-null   int64  \n",
            " 1   accn_kf_x         8668 non-null   float64\n",
            " 2   accn_kf_y         8668 non-null   float64\n",
            " 3   accn_kf_z         8668 non-null   float64\n",
            " 4   roll              8668 non-null   float64\n",
            " 5   pitch             8668 non-null   float64\n",
            " 6   yaw               8668 non-null   float64\n",
            "dtypes: float64(6), int64(1)\n",
            "memory usage: 474.2 KB\n"
          ]
        }
      ]
    },
    {
      "cell_type": "markdown",
      "metadata": {
        "id": "5gPV-tm5DziC"
      },
      "source": [
        "####Setting labels\n",
        "1. Normal - 0\n",
        "2. Aggresive - 1\n",
        "3. Drowsy - 2"
      ]
    },
    {
      "cell_type": "code",
      "metadata": {
        "id": "Fb4i4kMpSyQv"
      },
      "source": [
        "data_acc_NM['predict'] = 0\n",
        "data_acc_AM['predict'] = 1\n",
        "data_acc_DM['predict'] = 2"
      ],
      "execution_count": null,
      "outputs": []
    },
    {
      "cell_type": "code",
      "metadata": {
        "colab": {
          "base_uri": "https://localhost:8080/"
        },
        "id": "4flvpH9GTOue",
        "outputId": "9e867240-90c8-4e0c-a9ef-7cd2ae61c190"
      },
      "source": [
        "data_acc_NM.info()"
      ],
      "execution_count": null,
      "outputs": [
        {
          "output_type": "stream",
          "name": "stdout",
          "text": [
            "<class 'pandas.core.frame.DataFrame'>\n",
            "RangeIndex: 8668 entries, 0 to 8667\n",
            "Data columns (total 8 columns):\n",
            " #   Column            Non-Null Count  Dtype  \n",
            "---  ------            --------------  -----  \n",
            " 0   system_activated  8668 non-null   int64  \n",
            " 1   accn_kf_x         8668 non-null   float64\n",
            " 2   accn_kf_y         8668 non-null   float64\n",
            " 3   accn_kf_z         8668 non-null   float64\n",
            " 4   roll              8668 non-null   float64\n",
            " 5   pitch             8668 non-null   float64\n",
            " 6   yaw               8668 non-null   float64\n",
            " 7   predict           8668 non-null   int64  \n",
            "dtypes: float64(6), int64(2)\n",
            "memory usage: 541.9 KB\n"
          ]
        }
      ]
    },
    {
      "cell_type": "markdown",
      "metadata": {
        "id": "pDlcb7mbEU4o"
      },
      "source": [
        "#### Merging dataframes to make the dataset for prediction"
      ]
    },
    {
      "cell_type": "code",
      "metadata": {
        "id": "v5cAKIQnTQJk"
      },
      "source": [
        "data = pd.concat([data_acc_NM, data_acc_AM, data_acc_DM])"
      ],
      "execution_count": null,
      "outputs": []
    },
    {
      "cell_type": "markdown",
      "metadata": {
        "id": "G2MsF1xEEgjt"
      },
      "source": [
        "#### The merged dataframe\n",
        "1. Contains 8 variables.\n",
        "2. Contains 25366 rows."
      ]
    },
    {
      "cell_type": "code",
      "metadata": {
        "colab": {
          "base_uri": "https://localhost:8080/"
        },
        "id": "45Mo2rhNTvIG",
        "outputId": "fe0a14fa-0701-4235-d05e-1fd6cfab0f4a"
      },
      "source": [
        "data.info()"
      ],
      "execution_count": null,
      "outputs": [
        {
          "output_type": "stream",
          "name": "stdout",
          "text": [
            "<class 'pandas.core.frame.DataFrame'>\n",
            "Int64Index: 25366 entries, 0 to 9410\n",
            "Data columns (total 8 columns):\n",
            " #   Column            Non-Null Count  Dtype  \n",
            "---  ------            --------------  -----  \n",
            " 0   system_activated  25366 non-null  int64  \n",
            " 1   accn_kf_x         25366 non-null  float64\n",
            " 2   accn_kf_y         25366 non-null  float64\n",
            " 3   accn_kf_z         25366 non-null  float64\n",
            " 4   roll              25366 non-null  float64\n",
            " 5   pitch             25366 non-null  float64\n",
            " 6   yaw               25366 non-null  float64\n",
            " 7   predict           25366 non-null  int64  \n",
            "dtypes: float64(6), int64(2)\n",
            "memory usage: 1.7 MB\n"
          ]
        }
      ]
    },
    {
      "cell_type": "markdown",
      "metadata": {
        "id": "sYxLX_h5E2um"
      },
      "source": [
        "#### Distribution of output class using barplot"
      ]
    },
    {
      "cell_type": "code",
      "metadata": {
        "colab": {
          "base_uri": "https://localhost:8080/",
          "height": 313
        },
        "id": "X5R62xP2TwNb",
        "outputId": "3d4b908a-5402-495d-c5ae-fec5736de5da"
      },
      "source": [
        "sns.countplot(x = data['predict'])\n",
        "plt.xlabel('Class Code', size = 20)\n",
        "plt.ylabel('Number of entries', size = 20);\n",
        "plt.title('Distribution of classes',size=25)\n",
        "plt.show()"
      ],
      "execution_count": null,
      "outputs": [
        {
          "output_type": "display_data",
          "data": {
            "image/png": "[encoded data removed]",
            "text/plain": [
              "<Figure size 432x288 with 1 Axes>"
            ]
          },
          "metadata": {
            "needs_background": "light"
          }
        }
      ]
    },
    {
      "cell_type": "markdown",
      "metadata": {
        "id": "QXD8xfvwUUTQ"
      },
      "source": [
        "#### Importing Sklearn modules for Machine learning and predictions"
      ]
    },
    {
      "cell_type": "code",
      "metadata": {
        "id": "ggo67YRST-zL"
      },
      "source": [
        "from sklearn.model_selection import *\n",
        "from sklearn.linear_model import *\n",
        "from sklearn.preprocessing import *\n",
        "from sklearn.metrics import *\n",
        "from sklearn.svm import SVC\n",
        "from sklearn.neighbors import KNeighborsClassifier\n",
        "from sklearn.ensemble import RandomForestClassifier\n",
        "from sklearn.neural_network import MLPClassifier"
      ],
      "execution_count": null,
      "outputs": []
    },
    {
      "cell_type": "markdown",
      "metadata": {
        "id": "uhyDX1PbUoD1"
      },
      "source": [
        "#### Seperating the labels from the features"
      ]
    },
    {
      "cell_type": "code",
      "metadata": {
        "id": "_OcSjgAPUM48"
      },
      "source": [
        "#features\n",
        "X = data.drop('predict', 1)\n",
        "\n",
        "#labels\n",
        "Y = data['predict']"
      ],
      "execution_count": null,
      "outputs": []
    },
    {
      "cell_type": "code",
      "metadata": {
        "colab": {
          "base_uri": "https://localhost:8080/"
        },
        "id": "_ELQaS_IF9bW",
        "outputId": "a8720c03-30f6-433b-beb9-094447a7477f"
      },
      "source": [
        "X.info()"
      ],
      "execution_count": null,
      "outputs": [
        {
          "output_type": "stream",
          "name": "stdout",
          "text": [
            "<class 'pandas.core.frame.DataFrame'>\n",
            "Int64Index: 25366 entries, 0 to 9410\n",
            "Data columns (total 7 columns):\n",
            " #   Column            Non-Null Count  Dtype  \n",
            "---  ------            --------------  -----  \n",
            " 0   system_activated  25366 non-null  int64  \n",
            " 1   accn_kf_x         25366 non-null  float64\n",
            " 2   accn_kf_y         25366 non-null  float64\n",
            " 3   accn_kf_z         25366 non-null  float64\n",
            " 4   roll              25366 non-null  float64\n",
            " 5   pitch             25366 non-null  float64\n",
            " 6   yaw               25366 non-null  float64\n",
            "dtypes: float64(6), int64(1)\n",
            "memory usage: 2.2 MB\n"
          ]
        }
      ]
    },
    {
      "cell_type": "markdown",
      "metadata": {
        "id": "u1BFTl4KU5G6"
      },
      "source": [
        "#### Standardising the data before training the models\n",
        "This is to ensure better convergence"
      ]
    },
    {
      "cell_type": "code",
      "metadata": {
        "colab": {
          "base_uri": "https://localhost:8080/"
        },
        "id": "wwrONlw2U-oU",
        "outputId": "29b9c858-6bed-4924-dbbc-1f5e3c0abe2e"
      },
      "source": [
        "print('Before standardising \\n', X)\n",
        "print('-x'*50)\n",
        "\n",
        "sc = StandardScaler()\n",
        "X = sc.fit_transform(X)\n",
        "\n",
        "print('After standardising\\n', X)"
      ],
      "execution_count": null,
      "outputs": [
        {
          "output_type": "stream",
          "name": "stdout",
          "text": [
            "Before standardising \n",
            "       system_activated  accn_kf_x  accn_kf_y  accn_kf_z   roll  pitch    yaw\n",
            "0                    0      0.012      0.022      0.006 -1.487 -0.223 -0.373\n",
            "1                    0      0.049      0.088      0.028 -1.652 -0.248 -0.415\n",
            "2                    0      0.070      0.126      0.041 -1.652 -0.248 -0.415\n",
            "3                    0      0.078      0.141      0.046 -1.652 -0.248 -0.415\n",
            "4                    0      0.081      0.147      0.048 -1.652 -0.248 -0.415\n",
            "...                ...        ...        ...        ...    ...    ...    ...\n",
            "9406                 1     -0.005     -0.047      0.015 -1.549 -0.007  2.771\n",
            "9407                 1     -0.000     -0.035      0.012 -1.550 -0.004  2.772\n",
            "9408                 1     -0.014     -0.029      0.011 -1.550 -0.001  2.774\n",
            "9409                 1     -0.019     -0.025      0.014 -1.551 -0.000  2.775\n",
            "9410                 1     -0.023     -0.024      0.011 -1.552  0.002  2.776\n",
            "\n",
            "[25366 rows x 7 columns]\n",
            "-x-x-x-x-x-x-x-x-x-x-x-x-x-x-x-x-x-x-x-x-x-x-x-x-x-x-x-x-x-x-x-x-x-x-x-x-x-x-x-x-x-x-x-x-x-x-x-x-x-x\n",
            "After standardising\n",
            " [[-8.9465934   0.9410494   0.68067943 ...  2.27629321 -4.72455129\n",
            "  -0.08843385]\n",
            " [-8.9465934   2.47046204  2.47975832 ... -2.82652989 -5.24733805\n",
            "  -0.11007953]\n",
            " [-8.9465934   3.33850706  3.51559162 ... -2.82652989 -5.24733805\n",
            "  -0.11007953]\n",
            " ...\n",
            " [ 0.11177439 -0.13367299 -0.70951789 ...  0.32794257 -0.08220485\n",
            "   1.5334458 ]\n",
            " [ 0.11177439 -0.34035038 -0.60048281 ...  0.29701637 -0.06129338\n",
            "   1.53396118]\n",
            " [ 0.11177439 -0.50569228 -0.57322404 ...  0.26609017 -0.01947044\n",
            "   1.53447655]]\n"
          ]
        }
      ]
    },
    {
      "cell_type": "markdown",
      "metadata": {
        "id": "tguV7GQuVm0D"
      },
      "source": [
        "#### Spliting the dataset into training and testing"
      ]
    },
    {
      "cell_type": "code",
      "metadata": {
        "id": "-sl8m9C3T0dF"
      },
      "source": [
        "x_train, x_test, y_train, y_test = train_test_split(X, Y.to_numpy(), test_size = 0.2)"
      ],
      "execution_count": null,
      "outputs": []
    },
    {
      "cell_type": "code",
      "metadata": {
        "colab": {
          "base_uri": "https://localhost:8080/"
        },
        "id": "l8UkEgOcUXlT",
        "outputId": "fb15b154-f916-43f6-8f57-fdcb9886432e"
      },
      "source": [
        "print(x_train.shape)\n",
        "print(x_test.shape)\n",
        "print(y_train.shape)\n",
        "print(y_test.shape)"
      ],
      "execution_count": null,
      "outputs": [
        {
          "output_type": "stream",
          "name": "stdout",
          "text": [
            "(20292, 7)\n",
            "(5074, 7)\n",
            "(20292,)\n",
            "(5074,)\n"
          ]
        }
      ]
    },
    {
      "cell_type": "markdown",
      "metadata": {
        "id": "xlSNMjxTV3Nh"
      },
      "source": [
        "#### Logistic Regression"
      ]
    },
    {
      "cell_type": "code",
      "metadata": {
        "colab": {
          "base_uri": "https://localhost:8080/"
        },
        "id": "OihI04HnUbP8",
        "outputId": "8788efaf-c0b8-4026-d327-34bf62ad0a3f"
      },
      "source": [
        "#Initializing model\n",
        "log_reg = LogisticRegression(C = 0.1)\n",
        "\n",
        "#Training\n",
        "log_reg.fit(x_train, y_train)\n",
        "\n",
        "#Prediction\n",
        "y_pred_log_reg = log_reg.predict(x_test)\n",
        "\n",
        "#Classification report\n",
        "print(classification_report(y_test, y_pred_log_reg))"
      ],
      "execution_count": null,
      "outputs": [
        {
          "output_type": "stream",
          "name": "stdout",
          "text": [
            "              precision    recall  f1-score   support\n",
            "\n",
            "           0       0.50      0.52      0.51      1742\n",
            "           1       0.44      0.28      0.34      1474\n",
            "           2       0.49      0.61      0.55      1858\n",
            "\n",
            "    accuracy                           0.49      5074\n",
            "   macro avg       0.48      0.47      0.47      5074\n",
            "weighted avg       0.48      0.49      0.48      5074\n",
            "\n"
          ]
        }
      ]
    },
    {
      "cell_type": "markdown",
      "metadata": {
        "id": "aRpUbMnQXFFf"
      },
      "source": [
        "#### Support Vector Classifier - SVC"
      ]
    },
    {
      "cell_type": "code",
      "metadata": {
        "colab": {
          "base_uri": "https://localhost:8080/"
        },
        "id": "AaE1r7jIXYXC",
        "outputId": "e93ff6e7-dcf2-4afe-b93a-6a1a7f5baace"
      },
      "source": [
        "#Initializing model\n",
        "svc = SVC()\n",
        "\n",
        "#Training\n",
        "svc.fit(x_train, y_train)\n",
        "\n",
        "#Prediction\n",
        "y_pred_svc = svc.predict(x_test)\n",
        "\n",
        "#Classification report\n",
        "print(classification_report(y_test, y_pred_svc))"
      ],
      "execution_count": null,
      "outputs": [
        {
          "output_type": "stream",
          "name": "stdout",
          "text": [
            "              precision    recall  f1-score   support\n",
            "\n",
            "           0       0.85      0.89      0.87      1742\n",
            "           1       0.83      0.73      0.78      1474\n",
            "           2       0.72      0.76      0.74      1858\n",
            "\n",
            "    accuracy                           0.79      5074\n",
            "   macro avg       0.80      0.79      0.79      5074\n",
            "weighted avg       0.80      0.79      0.79      5074\n",
            "\n"
          ]
        }
      ]
    },
    {
      "cell_type": "markdown",
      "metadata": {
        "id": "bEVdPIQIYfX5"
      },
      "source": [
        "#### Random Forest - RF"
      ]
    },
    {
      "cell_type": "code",
      "metadata": {
        "colab": {
          "base_uri": "https://localhost:8080/"
        },
        "id": "hB5ZwHGLZWga",
        "outputId": "bc7e2b5d-2db5-4067-ab9b-f2893ce0250e"
      },
      "source": [
        "rf = RandomForestClassifier(n_estimators=50) \n",
        "\n",
        "#Training\n",
        "rf.fit(x_train, y_train)\n",
        "\n",
        "#Prediction\n",
        "y_pred_rf = rf.predict(x_test)\n",
        "\n",
        "#Classification report\n",
        "print(classification_report(y_test, y_pred_rf))"
      ],
      "execution_count": null,
      "outputs": [
        {
          "output_type": "stream",
          "name": "stdout",
          "text": [
            "              precision    recall  f1-score   support\n",
            "\n",
            "           0       0.99      1.00      0.99      1742\n",
            "           1       0.99      1.00      1.00      1474\n",
            "           2       1.00      0.99      0.99      1858\n",
            "\n",
            "    accuracy                           0.99      5074\n",
            "   macro avg       0.99      0.99      0.99      5074\n",
            "weighted avg       0.99      0.99      0.99      5074\n",
            "\n"
          ]
        }
      ]
    },
    {
      "cell_type": "markdown",
      "metadata": {
        "id": "NITtzSiHYlPK"
      },
      "source": [
        "#### K Nearest Neighbours - KNN"
      ]
    },
    {
      "cell_type": "code",
      "metadata": {
        "colab": {
          "base_uri": "https://localhost:8080/"
        },
        "id": "EtO6TpwAariO",
        "outputId": "8fc2f33b-db26-4aff-c417-51a1d411bb46"
      },
      "source": [
        "#Initializing model\n",
        "knn = KNeighborsClassifier(n_neighbors = 3) \n",
        "\n",
        "#Training\n",
        "knn.fit(x_train, y_train)\n",
        "\n",
        "#Prediction\n",
        "y_pred_knn = knn.predict(x_test)\n",
        "\n",
        "#Classification report\n",
        "print(classification_report(y_test, y_pred_knn))"
      ],
      "execution_count": null,
      "outputs": [
        {
          "output_type": "stream",
          "name": "stdout",
          "text": [
            "              precision    recall  f1-score   support\n",
            "\n",
            "           0       0.93      0.95      0.94      1742\n",
            "           1       0.90      0.85      0.88      1474\n",
            "           2       0.86      0.87      0.87      1858\n",
            "\n",
            "    accuracy                           0.89      5074\n",
            "   macro avg       0.89      0.89      0.89      5074\n",
            "weighted avg       0.89      0.89      0.89      5074\n",
            "\n"
          ]
        }
      ]
    },
    {
      "cell_type": "code",
      "metadata": {
        "colab": {
          "base_uri": "https://localhost:8080/"
        },
        "id": "YW49htqW8mqd",
        "outputId": "beb4d7e1-c259-4413-b3d7-49e179daad64"
      },
      "source": [
        "#Initializing model\n",
        "mlp = MLPClassifier()\n",
        "\n",
        "#Training\n",
        "mlp.fit(x_train, y_train)\n",
        "\n",
        "#Prediction\n",
        "y_pred_mlp = mlp.predict(x_test)\n",
        "\n",
        "#Classification report\n",
        "print(classification_report(y_test, y_pred_mlp))"
      ],
      "execution_count": null,
      "outputs": [
        {
          "output_type": "stream",
          "name": "stdout",
          "text": [
            "              precision    recall  f1-score   support\n",
            "\n",
            "           0       0.99      1.00      0.99      1742\n",
            "           1       1.00      0.99      0.99      1474\n",
            "           2       0.98      0.98      0.98      1858\n",
            "\n",
            "    accuracy                           0.99      5074\n",
            "   macro avg       0.99      0.99      0.99      5074\n",
            "weighted avg       0.99      0.99      0.99      5074\n",
            "\n"
          ]
        },
        {
          "output_type": "stream",
          "name": "stderr",
          "text": [
            "/usr/local/lib/python3.7/dist-packages/sklearn/neural_network/_multilayer_perceptron.py:696: ConvergenceWarning: Stochastic Optimizer: Maximum iterations (200) reached and the optimization hasn't converged yet.\n",
            "  ConvergenceWarning,\n"
          ]
        }
      ]
    },
    {
      "cell_type": "markdown",
      "metadata": {
        "id": "crVT5VDFajDw"
      },
      "source": [
        "#### Summary of accuracies of all models"
      ]
    },
    {
      "cell_type": "code",
      "metadata": {
        "colab": {
          "base_uri": "https://localhost:8080/"
        },
        "id": "X1mrOhi9anau",
        "outputId": "4e12e167-9ae4-4b7d-d830-e40ffcb1f9ab"
      },
      "source": [
        "print(f'For Logistic Regression')\n",
        "print(accuracy_score(y_test, y_pred_log_reg))\n",
        "\n",
        "print(f'\\nFor Support Vector Classifier')\n",
        "print(accuracy_score(y_test, y_pred_svc))\n",
        "\n",
        "print(f'\\nFor Random Forest Classifier')\n",
        "print(accuracy_score(y_test, y_pred_rf))\n",
        "\n",
        "print(f'\\nFor K Nearest Neigbours')\n",
        "print(accuracy_score(y_test, y_pred_knn))\n",
        "\n",
        "print(f'\\nFor Multilayer Perceptron Classifier')\n",
        "print(accuracy_score(y_test, y_pred_mlp))"
      ],
      "execution_count": null,
      "outputs": [
        {
          "output_type": "stream",
          "name": "stdout",
          "text": [
            "For Logistic Regression\n",
            "0.48640126133228223\n",
            "\n",
            "For Support Vector Classifier\n",
            "0.7938510051241624\n",
            "\n",
            "For Random Forest Classifier\n",
            "0.9940875049270792\n",
            "\n",
            "For K Nearest Neigbours\n",
            "0.8939692550256209\n",
            "\n",
            "For Multilayer Perceptron Classifier\n",
            "0.9877808435159637\n"
          ]
        }
      ]
    },
    {
      "cell_type": "markdown",
      "metadata": {
        "id": "y7VJ_9umjPRK"
      },
      "source": [
        "### Predictions after combining data for all 6 drivers"
      ]
    },
    {
      "cell_type": "markdown",
      "metadata": {
        "id": "thbyw9r4qcu1"
      },
      "source": [
        "#### Array to store the data for individual drivers"
      ]
    },
    {
      "cell_type": "code",
      "metadata": {
        "id": "NtE4PszAj88I"
      },
      "source": [
        "Norm = []\n",
        "Agggre = []\n",
        "Drow = []"
      ],
      "execution_count": null,
      "outputs": []
    },
    {
      "cell_type": "markdown",
      "metadata": {
        "id": "btwBDt3_qitE"
      },
      "source": [
        "#### Sequentially reading all the data files"
      ]
    },
    {
      "cell_type": "markdown",
      "metadata": {
        "id": "_pZGffWSqq7q"
      },
      "source": [
        "**For Normal Motorway**"
      ]
    },
    {
      "cell_type": "code",
      "metadata": {
        "id": "WgudiO_2kVBp"
      },
      "source": [
        "df = pd.read_csv('/content/drive/Shareddrives/DS203/Driver_Behaviour_Analysis/UAH-DRIVESET-v1/D1/20151111123124-25km-D1-NORMAL-MOTORWAY/RAW_ACCELEROMETERS.txt', header=None, sep=\" \")\n",
        "Norm.append(df)\n",
        "\n",
        "df = pd.read_csv('/content/drive/Shareddrives/DS203/UAH-DRIVESET-v1/D2/20151120131714-26km-D2-NORMAL-MOTORWAY/RAW_ACCELEROMETERS.txt', header=None, sep=\" \")\n",
        "Norm.append(df)\n",
        "\n",
        "df = pd.read_csv('/content/drive/Shareddrives/DS203/UAH-DRIVESET-v1/D3/20151126110502-26km-D3-NORMAL-MOTORWAY/RAW_ACCELEROMETERS.txt', header=None, sep=\" \")\n",
        "Norm.append(df)\n",
        "\n",
        "df = pd.read_csv('/content/drive/Shareddrives/DS203/UAH-DRIVESET-v1/D4/20151204152848-25km-D4-NORMAL-MOTORWAY/RAW_ACCELEROMETERS.txt', header=None, sep=\" \")\n",
        "Norm.append(df)\n",
        "\n",
        "df = pd.read_csv('/content/drive/Shareddrives/DS203/UAH-DRIVESET-v1/D5/20151209151242-25km-D5-NORMAL-MOTORWAY/RAW_ACCELEROMETERS.txt', header=None, sep=\" \")\n",
        "Norm.append(df)\n",
        "\n",
        "df = pd.read_csv('/content/drive/Shareddrives/DS203/UAH-DRIVESET-v1/D6/20151217162714-26km-D6-NORMAL-MOTORWAY/RAW_ACCELEROMETERS.txt', header=None, sep=\" \")\n",
        "Norm.append(df)\n"
      ],
      "execution_count": null,
      "outputs": []
    },
    {
      "cell_type": "markdown",
      "metadata": {
        "id": "PBsO6-yLqu0O"
      },
      "source": [
        "**For Aggresive Motorway**"
      ]
    },
    {
      "cell_type": "code",
      "metadata": {
        "id": "GdmqT2WGmioc"
      },
      "source": [
        "df = pd.read_csv('/content/drive/Shareddrives/DS203/UAH-DRIVESET-v1/D1/20151111125233-24km-D1-AGGRESSIVE-MOTORWAY/RAW_ACCELEROMETERS.txt', header=None, sep=\" \")\n",
        "Agggre.append(df)\n",
        "\n",
        "df = pd.read_csv('/content/drive/Shareddrives/DS203/UAH-DRIVESET-v1/D2/20151120133502-26km-D2-AGGRESSIVE-MOTORWAY/RAW_ACCELEROMETERS.txt', header=None, sep=\" \")\n",
        "Agggre.append(df)\n",
        "\n",
        "df = pd.read_csv('/content/drive/Shareddrives/DS203/UAH-DRIVESET-v1/D3/20151126130707-16km-D3-AGGRESSIVE-SECONDARY/RAW_ACCELEROMETERS.txt', header=None, sep=\" \")\n",
        "Agggre.append(df)\n",
        "\n",
        "df = pd.read_csv('/content/drive/Shareddrives/DS203/UAH-DRIVESET-v1/D4/20151204154908-25km-D4-AGGRESSIVE-MOTORWAY/RAW_ACCELEROMETERS.txt', header=None, sep=\" \")\n",
        "Agggre.append(df)\n",
        "\n",
        "df = pd.read_csv('/content/drive/Shareddrives/DS203/UAH-DRIVESET-v1/D5/20151209153137-25km-D5-AGGRESSIVE-MOTORWAY/RAW_ACCELEROMETERS.txt', header=None, sep=\" \")\n",
        "Agggre.append(df)\n",
        "\n",
        "df = pd.read_csv('/content/drive/Shareddrives/DS203/UAH-DRIVESET-v1/D6/20151221120051-26km-D6-AGGRESSIVE-MOTORWAY/RAW_ACCELEROMETERS.txt', header=None, sep=\" \")\n",
        "Agggre.append(df)\n"
      ],
      "execution_count": null,
      "outputs": []
    },
    {
      "cell_type": "markdown",
      "metadata": {
        "id": "rWABdPG9qxb0"
      },
      "source": [
        "**For Drowsy Motorway**"
      ]
    },
    {
      "cell_type": "code",
      "metadata": {
        "id": "MWKcWlNtpg8o"
      },
      "source": [
        "df = pd.read_csv('/content/drive/Shareddrives/DS203/Driver_Behaviour_Analysis/UAH-DRIVESET-v1/D1/20151111132348-25km-D1-DROWSY-MOTORWAY/RAW_ACCELEROMETERS.txt', header=None, sep=\" \")\n",
        "Drow.append(df)\n",
        "\n",
        "df = pd.read_csv('/content/drive/Shareddrives/DS203/Driver_Behaviour_Analysis/UAH-DRIVESET-v1/D2/20151120135152-25km-D2-DROWSY-MOTORWAY/RAW_ACCELEROMETERS.txt', header=None, sep=\" \")\n",
        "Drow.append(df)\n",
        "\n",
        "df = pd.read_csv('/content/drive/Shareddrives/DS203/Driver_Behaviour_Analysis/UAH-DRIVESET-v1/D3/20151126113754-26km-D3-DROWSY-MOTORWAY/RAW_ACCELEROMETERS.txt', header=None, sep=\" \")\n",
        "Drow.append(df)\n",
        "\n",
        "df = pd.read_csv('/content/drive/Shareddrives/DS203/Driver_Behaviour_Analysis/UAH-DRIVESET-v1/D4/20151204160823-25km-D4-DROWSY-MOTORWAY/RAW_ACCELEROMETERS.txt', header=None, sep=\" \")\n",
        "Drow.append(df)\n",
        "\n",
        "df = pd.read_csv('/content/drive/Shareddrives/DS203/Driver_Behaviour_Analysis/UAH-DRIVESET-v1/D5/20151211160213-25km-D5-DROWSY-MOTORWAY/RAW_ACCELEROMETERS.txt', header=None, sep=\" \")\n",
        "Drow.append(df)\n",
        "\n",
        "df = pd.read_csv('/content/drive/Shareddrives/DS203/Driver_Behaviour_Analysis/UAH-DRIVESET-v1/D6/20151217164730-25km-D6-DROWSY-MOTORWAY/RAW_ACCELEROMETERS.txt', header=None, sep=\" \")\n",
        "Drow.append(df)"
      ],
      "execution_count": null,
      "outputs": []
    },
    {
      "cell_type": "code",
      "metadata": {
        "id": "XfFQtvuVonW3"
      },
      "source": [
        "data_N = pd.concat(Norm)\n",
        "data_A = pd.concat(Agggre)\n",
        "data_D = pd.concat(Drow)"
      ],
      "execution_count": null,
      "outputs": []
    },
    {
      "cell_type": "code",
      "metadata": {
        "colab": {
          "base_uri": "https://localhost:8080/"
        },
        "id": "6rPJW0XDo-AW",
        "outputId": "d28b5933-baab-4a28-9f8a-0e1f8883aa47"
      },
      "source": [
        "data_N.info()"
      ],
      "execution_count": null,
      "outputs": [
        {
          "output_type": "stream",
          "name": "stdout",
          "text": [
            "<class 'pandas.core.frame.DataFrame'>\n",
            "Int64Index: 56216 entries, 0 to 10176\n",
            "Data columns (total 12 columns):\n",
            " #   Column  Non-Null Count  Dtype  \n",
            "---  ------  --------------  -----  \n",
            " 0   0       56216 non-null  float64\n",
            " 1   1       56216 non-null  int64  \n",
            " 2   2       56216 non-null  float64\n",
            " 3   3       56216 non-null  float64\n",
            " 4   4       56216 non-null  float64\n",
            " 5   5       56216 non-null  float64\n",
            " 6   6       56216 non-null  float64\n",
            " 7   7       56216 non-null  float64\n",
            " 8   8       56216 non-null  float64\n",
            " 9   9       56216 non-null  float64\n",
            " 10  10      56216 non-null  float64\n",
            " 11  11      0 non-null      float64\n",
            "dtypes: float64(11), int64(1)\n",
            "memory usage: 5.6 MB\n"
          ]
        }
      ]
    },
    {
      "cell_type": "code",
      "metadata": {
        "colab": {
          "base_uri": "https://localhost:8080/"
        },
        "id": "9ZK9t0q6pAx-",
        "outputId": "0d1e384a-7269-4a82-b9fd-16575adf7228"
      },
      "source": [
        "data_A.info()"
      ],
      "execution_count": null,
      "outputs": [
        {
          "output_type": "stream",
          "name": "stdout",
          "text": [
            "<class 'pandas.core.frame.DataFrame'>\n",
            "Int64Index: 48976 entries, 0 to 9051\n",
            "Data columns (total 12 columns):\n",
            " #   Column  Non-Null Count  Dtype  \n",
            "---  ------  --------------  -----  \n",
            " 0   0       48976 non-null  float64\n",
            " 1   1       48976 non-null  int64  \n",
            " 2   2       48976 non-null  float64\n",
            " 3   3       48976 non-null  float64\n",
            " 4   4       48976 non-null  float64\n",
            " 5   5       48976 non-null  float64\n",
            " 6   6       48976 non-null  float64\n",
            " 7   7       48976 non-null  float64\n",
            " 8   8       48976 non-null  float64\n",
            " 9   9       48976 non-null  float64\n",
            " 10  10      48976 non-null  float64\n",
            " 11  11      0 non-null      float64\n",
            "dtypes: float64(11), int64(1)\n",
            "memory usage: 4.9 MB\n"
          ]
        }
      ]
    },
    {
      "cell_type": "code",
      "metadata": {
        "id": "KOnrSGOWpDvu",
        "colab": {
          "base_uri": "https://localhost:8080/"
        },
        "outputId": "322e3b1e-7dc9-4b6f-ee77-7362d8e02bca"
      },
      "source": [
        "data_D.info()"
      ],
      "execution_count": null,
      "outputs": [
        {
          "output_type": "stream",
          "name": "stdout",
          "text": [
            "<class 'pandas.core.frame.DataFrame'>\n",
            "Int64Index: 60624 entries, 0 to 10662\n",
            "Data columns (total 12 columns):\n",
            " #   Column  Non-Null Count  Dtype  \n",
            "---  ------  --------------  -----  \n",
            " 0   0       60624 non-null  float64\n",
            " 1   1       60624 non-null  int64  \n",
            " 2   2       60624 non-null  float64\n",
            " 3   3       60624 non-null  float64\n",
            " 4   4       60624 non-null  float64\n",
            " 5   5       60624 non-null  float64\n",
            " 6   6       60624 non-null  float64\n",
            " 7   7       60624 non-null  float64\n",
            " 8   8       60624 non-null  float64\n",
            " 9   9       60624 non-null  float64\n",
            " 10  10      60624 non-null  float64\n",
            " 11  11      0 non-null      float64\n",
            "dtypes: float64(11), int64(1)\n",
            "memory usage: 6.0 MB\n"
          ]
        }
      ]
    },
    {
      "cell_type": "code",
      "metadata": {
        "id": "P6RVP-8Q2m9p"
      },
      "source": [
        "data_N = data_N.drop([11], axis=1)\n",
        "data_A = data_A.drop([11], axis=1)\n",
        "data_D = data_D.drop([11], axis=1)"
      ],
      "execution_count": null,
      "outputs": []
    },
    {
      "cell_type": "code",
      "metadata": {
        "id": "Lt61Eu6V2m9p"
      },
      "source": [
        "data_N.columns=['timestamp','system_activated','accn_x','accn_y','accn_z','accn_kf_x','accn_kf_y','accn_kf_z','roll','pitch','yaw']\n",
        "data_A.columns=['timestamp','system_activated','accn_x','accn_y','accn_z','accn_kf_x','accn_kf_y','accn_kf_z','roll','pitch','yaw']\n",
        "data_D.columns=['timestamp','system_activated','accn_x','accn_y','accn_z','accn_kf_x','accn_kf_y','accn_kf_z','roll','pitch','yaw']"
      ],
      "execution_count": null,
      "outputs": []
    },
    {
      "cell_type": "markdown",
      "metadata": {
        "id": "Wcpa9DEArEwQ"
      },
      "source": [
        "#### Assigning labels"
      ]
    },
    {
      "cell_type": "code",
      "metadata": {
        "id": "k2UKG_BWqC7k"
      },
      "source": [
        "data_N['predict'] = 0\n",
        "data_A['predict'] = 1\n",
        "data_D['predict'] = 2"
      ],
      "execution_count": null,
      "outputs": []
    },
    {
      "cell_type": "markdown",
      "metadata": {
        "id": "gUR3IUNK38cI"
      },
      "source": [
        "#### Master data"
      ]
    },
    {
      "cell_type": "code",
      "metadata": {
        "id": "qpZpf00k4ANz"
      },
      "source": [
        "data_master = pd.concat([data_N,data_A,data_D])"
      ],
      "execution_count": null,
      "outputs": []
    },
    {
      "cell_type": "code",
      "metadata": {
        "colab": {
          "base_uri": "https://localhost:8080/"
        },
        "id": "HZLejaYf4JAG",
        "outputId": "5e72fe4c-5d81-413a-d26b-319f5c0cad04"
      },
      "source": [
        "data_master.info()"
      ],
      "execution_count": null,
      "outputs": [
        {
          "output_type": "stream",
          "name": "stdout",
          "text": [
            "<class 'pandas.core.frame.DataFrame'>\n",
            "Int64Index: 165816 entries, 0 to 10662\n",
            "Data columns (total 12 columns):\n",
            " #   Column            Non-Null Count   Dtype  \n",
            "---  ------            --------------   -----  \n",
            " 0   timestamp         165816 non-null  float64\n",
            " 1   system_activated  165816 non-null  int64  \n",
            " 2   accn_x            165816 non-null  float64\n",
            " 3   accn_y            165816 non-null  float64\n",
            " 4   accn_z            165816 non-null  float64\n",
            " 5   accn_kf_x         165816 non-null  float64\n",
            " 6   accn_kf_y         165816 non-null  float64\n",
            " 7   accn_kf_z         165816 non-null  float64\n",
            " 8   roll              165816 non-null  float64\n",
            " 9   pitch             165816 non-null  float64\n",
            " 10  yaw               165816 non-null  float64\n",
            " 11  predict           165816 non-null  int64  \n",
            "dtypes: float64(10), int64(2)\n",
            "memory usage: 16.4 MB\n"
          ]
        }
      ]
    },
    {
      "cell_type": "markdown",
      "metadata": {
        "id": "9YrKt0Uv36tt"
      },
      "source": [
        "#### Distribution of output class using barplot"
      ]
    },
    {
      "cell_type": "code",
      "metadata": {
        "colab": {
          "base_uri": "https://localhost:8080/",
          "height": 313
        },
        "id": "6TbK0gWm36uR",
        "outputId": "46fd6aef-4241-47c0-f7fb-3e5b966bec5f"
      },
      "source": [
        "sns.countplot(x = data_master['predict'])\n",
        "plt.xlabel('Class Code', size = 20)\n",
        "plt.ylabel('Number of entries', size = 20);\n",
        "plt.title('Distribution of classes',size=25)\n",
        "plt.show()"
      ],
      "execution_count": null,
      "outputs": [
        {
          "output_type": "display_data",
          "data": {
            "image/png": "[encoded data removed]",
            "text/plain": [
              "<Figure size 432x288 with 1 Axes>"
            ]
          },
          "metadata": {
            "needs_background": "light"
          }
        }
      ]
    },
    {
      "cell_type": "markdown",
      "metadata": {
        "id": "aYugX_MR4b8v"
      },
      "source": [
        "#### Seperating the labels from the features"
      ]
    },
    {
      "cell_type": "code",
      "metadata": {
        "id": "J3g_glSy4b8w"
      },
      "source": [
        "#features\n",
        "X = data_master.drop(['predict','accn_x','accn_y','accn_z', 'timestamp'], 1)\n",
        "\n",
        "#labels\n",
        "Y = data_master['predict']"
      ],
      "execution_count": null,
      "outputs": []
    },
    {
      "cell_type": "code",
      "metadata": {
        "colab": {
          "base_uri": "https://localhost:8080/"
        },
        "id": "QrxEmXc04b8w",
        "outputId": "c0d261bf-5a7f-4f21-f85d-cfabcbf00ba1"
      },
      "source": [
        "X.info()"
      ],
      "execution_count": null,
      "outputs": [
        {
          "output_type": "stream",
          "name": "stdout",
          "text": [
            "<class 'pandas.core.frame.DataFrame'>\n",
            "Int64Index: 165816 entries, 0 to 10662\n",
            "Data columns (total 7 columns):\n",
            " #   Column            Non-Null Count   Dtype  \n",
            "---  ------            --------------   -----  \n",
            " 0   system_activated  165816 non-null  int64  \n",
            " 1   accn_kf_x         165816 non-null  float64\n",
            " 2   accn_kf_y         165816 non-null  float64\n",
            " 3   accn_kf_z         165816 non-null  float64\n",
            " 4   roll              165816 non-null  float64\n",
            " 5   pitch             165816 non-null  float64\n",
            " 6   yaw               165816 non-null  float64\n",
            "dtypes: float64(6), int64(1)\n",
            "memory usage: 15.1 MB\n"
          ]
        }
      ]
    },
    {
      "cell_type": "markdown",
      "metadata": {
        "id": "aKhF7pWb4b8x"
      },
      "source": [
        "#### Standardising the data before training the models\n",
        "This is to ensure better convergence"
      ]
    },
    {
      "cell_type": "code",
      "metadata": {
        "colab": {
          "base_uri": "https://localhost:8080/"
        },
        "id": "Sh-EGlUk4b8x",
        "outputId": "571d6b92-5346-4285-8af5-1c3f8f9af954"
      },
      "source": [
        "print('Before standardising \\n', X)\n",
        "print('-x'*50)\n",
        "\n",
        "sc = StandardScaler()\n",
        "X = sc.fit_transform(X)\n",
        "\n",
        "print('After standardising\\n', X)"
      ],
      "execution_count": null,
      "outputs": [
        {
          "output_type": "stream",
          "name": "stdout",
          "text": [
            "Before standardising \n",
            "        system_activated  accn_kf_x  accn_kf_y  accn_kf_z   roll  pitch    yaw\n",
            "0                     0      0.012      0.022      0.006 -1.487 -0.223 -0.373\n",
            "1                     0      0.049      0.088      0.028 -1.652 -0.248 -0.415\n",
            "2                     0      0.070      0.126      0.041 -1.652 -0.248 -0.415\n",
            "3                     0      0.078      0.141      0.046 -1.652 -0.248 -0.415\n",
            "4                     0      0.081      0.147      0.048 -1.652 -0.248 -0.415\n",
            "...                 ...        ...        ...        ...    ...    ...    ...\n",
            "10658                 1     -0.003     -0.004      0.012 -1.538  0.032  2.970\n",
            "10659                 1      0.010     -0.010      0.009 -1.537  0.031  2.969\n",
            "10660                 1     -0.011     -0.006     -0.008 -1.534  0.037  2.967\n",
            "10661                 1      0.019     -0.007     -0.006 -1.534  0.039  2.966\n",
            "10662                 1     -0.002      0.006     -0.012 -1.533  0.036  2.965\n",
            "\n",
            "[165816 rows x 7 columns]\n",
            "-x-x-x-x-x-x-x-x-x-x-x-x-x-x-x-x-x-x-x-x-x-x-x-x-x-x-x-x-x-x-x-x-x-x-x-x-x-x-x-x-x-x-x-x-x-x-x-x-x-x\n",
            "After standardising\n",
            " [[-7.67916794  0.88168192  0.44164605 ...  1.9251766  -2.53616735\n",
            "  -0.12219161]\n",
            " [-7.67916794  2.15735447  1.29012881 ... -2.57202044 -2.83352607\n",
            "  -0.14428273]\n",
            " [-7.67916794  2.88138483  1.77864919 ... -2.57202044 -2.83352607\n",
            "  -0.14428273]\n",
            " ...\n",
            " [ 0.13022244  0.08869629  0.08168367 ...  0.64415683  0.55636329\n",
            "   1.63457899]\n",
            " [ 0.13022244  1.12302538  0.06882787 ...  0.64415683  0.58015199\n",
            "   1.63405301]\n",
            " [ 0.13022244  0.39899501  0.23595326 ...  0.67141257  0.54446894\n",
            "   1.63352703]]\n"
          ]
        }
      ]
    },
    {
      "cell_type": "markdown",
      "metadata": {
        "id": "dTCYSyRJ4b8x"
      },
      "source": [
        "#### Spliting the dataset into training and testing"
      ]
    },
    {
      "cell_type": "code",
      "metadata": {
        "id": "XfYR2Var4b8x"
      },
      "source": [
        "x_train, x_test, y_train, y_test = train_test_split(X, Y.to_numpy(), test_size = 0.2)"
      ],
      "execution_count": null,
      "outputs": []
    },
    {
      "cell_type": "code",
      "metadata": {
        "colab": {
          "base_uri": "https://localhost:8080/"
        },
        "id": "idMCXDkN4b8y",
        "outputId": "a9f9cc38-691c-4611-cb80-74b94d0f4b20"
      },
      "source": [
        "print(x_train.shape)\n",
        "print(x_test.shape)\n",
        "print(y_train.shape)\n",
        "print(y_test.shape)"
      ],
      "execution_count": null,
      "outputs": [
        {
          "output_type": "stream",
          "name": "stdout",
          "text": [
            "(132652, 7)\n",
            "(33164, 7)\n",
            "(132652,)\n",
            "(33164,)\n"
          ]
        }
      ]
    },
    {
      "cell_type": "markdown",
      "metadata": {
        "id": "X-DgLlXd4b8y"
      },
      "source": [
        "#### Logistic Regression"
      ]
    },
    {
      "cell_type": "code",
      "metadata": {
        "colab": {
          "base_uri": "https://localhost:8080/"
        },
        "id": "HnCcvBaa4b8y",
        "outputId": "5cac7387-7299-42bc-d1f4-05abe4b497fe"
      },
      "source": [
        "#Initializing model\n",
        "log_reg = LogisticRegression(C = 0.1)\n",
        "\n",
        "#Training\n",
        "log_reg.fit(x_train, y_train)\n",
        "\n",
        "#Prediction\n",
        "y_pred_log_reg = log_reg.predict(x_test)\n",
        "\n",
        "#Classification report\n",
        "print(classification_report(y_test, y_pred_log_reg))"
      ],
      "execution_count": null,
      "outputs": [
        {
          "output_type": "stream",
          "name": "stdout",
          "text": [
            "              precision    recall  f1-score   support\n",
            "\n",
            "           0       0.39      0.49      0.44     11093\n",
            "           1       0.39      0.18      0.25      9951\n",
            "           2       0.39      0.47      0.42     12120\n",
            "\n",
            "    accuracy                           0.39     33164\n",
            "   macro avg       0.39      0.38      0.37     33164\n",
            "weighted avg       0.39      0.39      0.38     33164\n",
            "\n"
          ]
        }
      ]
    },
    {
      "cell_type": "markdown",
      "metadata": {
        "id": "Ts9TBNlr4b8y"
      },
      "source": [
        "#### Support Vector Classifier - SVC\n",
        "We are terminating this early here because of time constraint. The Lagrange optimation is taking quite a long time."
      ]
    },
    {
      "cell_type": "code",
      "metadata": {
        "colab": {
          "base_uri": "https://localhost:8080/"
        },
        "id": "vhBkcjHK4b8y",
        "outputId": "9f044fb5-7b06-4fd5-ea1b-466a7f2218dd"
      },
      "source": [
        "#Initializing model\n",
        "svc = SVC(max_iter=1250)\n",
        "\n",
        "#Training\n",
        "svc.fit(x_train, y_train)\n",
        "\n",
        "#Prediction\n",
        "y_pred_svc = svc.predict(x_test)\n",
        "\n",
        "#Classification report\n",
        "print(classification_report(y_test, y_pred_svc))"
      ],
      "execution_count": null,
      "outputs": [
        {
          "output_type": "stream",
          "name": "stderr",
          "text": [
            "/usr/local/lib/python3.7/dist-packages/sklearn/svm/_base.py:289: ConvergenceWarning: Solver terminated early (max_iter=1250).  Consider pre-processing your data with StandardScaler or MinMaxScaler.\n",
            "  ConvergenceWarning,\n"
          ]
        },
        {
          "output_type": "stream",
          "name": "stdout",
          "text": [
            "              precision    recall  f1-score   support\n",
            "\n",
            "           0       0.36      0.44      0.40     11093\n",
            "           1       0.25      0.32      0.28      9951\n",
            "           2       0.37      0.22      0.27     12120\n",
            "\n",
            "    accuracy                           0.32     33164\n",
            "   macro avg       0.33      0.32      0.32     33164\n",
            "weighted avg       0.33      0.32      0.32     33164\n",
            "\n"
          ]
        }
      ]
    },
    {
      "cell_type": "markdown",
      "metadata": {
        "id": "I-63zbfk4b8z"
      },
      "source": [
        "#### Random Forest - RF"
      ]
    },
    {
      "cell_type": "code",
      "metadata": {
        "colab": {
          "base_uri": "https://localhost:8080/"
        },
        "id": "QIpEYyDc4b8z",
        "outputId": "af30821c-1305-4336-b71e-6880cfc62e26"
      },
      "source": [
        "rf = RandomForestClassifier(n_estimators=150) \n",
        "\n",
        "#Training\n",
        "rf.fit(x_train, y_train)\n",
        "\n",
        "#Prediction\n",
        "y_pred_rf = rf.predict(x_test)\n",
        "\n",
        "#Classification report\n",
        "print(classification_report(y_test, y_pred_rf))"
      ],
      "execution_count": null,
      "outputs": [
        {
          "output_type": "stream",
          "name": "stdout",
          "text": [
            "              precision    recall  f1-score   support\n",
            "\n",
            "           0       0.88      0.88      0.88     11093\n",
            "           1       0.88      0.86      0.87      9951\n",
            "           2       0.89      0.91      0.90     12120\n",
            "\n",
            "    accuracy                           0.89     33164\n",
            "   macro avg       0.89      0.88      0.88     33164\n",
            "weighted avg       0.89      0.89      0.89     33164\n",
            "\n"
          ]
        }
      ]
    },
    {
      "cell_type": "markdown",
      "metadata": {
        "id": "XKci_oao4b8z"
      },
      "source": [
        "#### K Nearest Neighbours - KNN"
      ]
    },
    {
      "cell_type": "code",
      "metadata": {
        "colab": {
          "base_uri": "https://localhost:8080/"
        },
        "id": "F77pm-9Q4b8z",
        "outputId": "08a5fcd8-7b82-4e9f-b86d-200317997371"
      },
      "source": [
        "#Initializing model\n",
        "knn = KNeighborsClassifier(n_neighbors = 4) \n",
        "\n",
        "#Training\n",
        "knn.fit(x_train, y_train)\n",
        "\n",
        "#Prediction\n",
        "y_pred_knn = knn.predict(x_test)\n",
        "\n",
        "#Classification report\n",
        "print(classification_report(y_test, y_pred_knn))"
      ],
      "execution_count": null,
      "outputs": [
        {
          "output_type": "stream",
          "name": "stdout",
          "text": [
            "              precision    recall  f1-score   support\n",
            "\n",
            "           0       0.61      0.75      0.68     11093\n",
            "           1       0.68      0.61      0.64      9951\n",
            "           2       0.73      0.64      0.68     12120\n",
            "\n",
            "    accuracy                           0.67     33164\n",
            "   macro avg       0.67      0.67      0.67     33164\n",
            "weighted avg       0.68      0.67      0.67     33164\n",
            "\n"
          ]
        }
      ]
    },
    {
      "cell_type": "markdown",
      "metadata": {
        "id": "ZUqws9yN8Gj5"
      },
      "source": [
        "#### Multilayer Perceptron Classifier - MLPC"
      ]
    },
    {
      "cell_type": "code",
      "metadata": {
        "colab": {
          "base_uri": "https://localhost:8080/"
        },
        "id": "JR7771I98Sf0",
        "outputId": "e010787a-f025-4c3b-c479-94df990d8962"
      },
      "source": [
        "#Initializing model\n",
        "mlp = MLPClassifier()\n",
        "\n",
        "#Training\n",
        "mlp.fit(x_train, y_train)\n",
        "\n",
        "#Prediction\n",
        "y_pred_mlp = mlp.predict(x_test)\n",
        "\n",
        "#Classification report\n",
        "print(classification_report(y_test, y_pred_mlp))"
      ],
      "execution_count": null,
      "outputs": [
        {
          "output_type": "stream",
          "name": "stdout",
          "text": [
            "              precision    recall  f1-score   support\n",
            "\n",
            "           0       0.70      0.70      0.70     11093\n",
            "           1       0.70      0.64      0.67      9951\n",
            "           2       0.72      0.77      0.75     12120\n",
            "\n",
            "    accuracy                           0.71     33164\n",
            "   macro avg       0.71      0.70      0.70     33164\n",
            "weighted avg       0.71      0.71      0.71     33164\n",
            "\n"
          ]
        },
        {
          "output_type": "stream",
          "name": "stderr",
          "text": [
            "/usr/local/lib/python3.7/dist-packages/sklearn/neural_network/_multilayer_perceptron.py:696: ConvergenceWarning: Stochastic Optimizer: Maximum iterations (200) reached and the optimization hasn't converged yet.\n",
            "  ConvergenceWarning,\n"
          ]
        }
      ]
    },
    {
      "cell_type": "markdown",
      "metadata": {
        "id": "TMZZQv8a4b8z"
      },
      "source": [
        "#### Summary of accuracies of all models"
      ]
    },
    {
      "cell_type": "code",
      "metadata": {
        "colab": {
          "base_uri": "https://localhost:8080/"
        },
        "id": "TrmC6hth4b80",
        "outputId": "5dcb7b25-6181-48af-8c68-475844bba44b"
      },
      "source": [
        "print(f'For Logistic Regression')\n",
        "print(accuracy_score(y_test, y_pred_log_reg))\n",
        "\n",
        "print(f'\\nFor Support Vector Classifier')\n",
        "print(accuracy_score(y_test, y_pred_svc))\n",
        "\n",
        "print(f'\\nFor Random Forest Classifier')\n",
        "print(accuracy_score(y_test, y_pred_rf))\n",
        "\n",
        "print(f'\\nFor K Nearest Neigbours')\n",
        "print(accuracy_score(y_test, y_pred_knn))\n",
        "\n",
        "print(f'\\nMultilayer Perceptron Classifier')\n",
        "print(accuracy_score(y_test, y_pred_mlp))"
      ],
      "execution_count": null,
      "outputs": [
        {
          "output_type": "stream",
          "name": "stdout",
          "text": [
            "For Logistic Regression\n",
            "0.38994089977083585\n",
            "\n",
            "For Support Vector Classifier\n",
            "0.32095042817512964\n",
            "\n",
            "For Random Forest Classifier\n",
            "0.885870220721264\n",
            "\n",
            "For K Nearest Neigbours\n",
            "0.6682848872271138\n",
            "\n",
            "Multilayer Perceptron Classifier\n",
            "0.7084790736943674\n"
          ]
        }
      ]
    }
  ]
}